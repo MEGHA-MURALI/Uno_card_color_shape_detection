{
 "cells": [
  {
   "cell_type": "code",
   "execution_count": 1,
   "metadata": {},
   "outputs": [],
   "source": [
    "#import necessary packages\n",
    "\n",
    "from tensorflow.keras.models import load_model\n",
    "from collections import deque\n",
    "import numpy as np\n",
    "import argparse\n",
    "import cv2"
   ]
  },
  {
   "cell_type": "code",
   "execution_count": 2,
   "metadata": {},
   "outputs": [],
   "source": [
    "#Load model weight\n",
    "\n",
    "model_path ='C:/Users/97150/Desktop/Uno_card_color_shape_detection/output/unocard.model'\n",
    "model=load_model(model_path)\n",
    "\n",
    "# initialize the class labels in the dataset\n",
    "CLASSES = [\"Card_0\",\"Card_1\",\"Card_2\",\"Card_3\",\"Card_4\",\"Card_5\",\"Card_6\",\"Card_7\",\"Card_8\",\"Card_9\",\"Draw_2+\",\"Draw_4+\",\"Reverse\",\"Skip_Card\",\"Wild_Card\"]"
   ]
  },
  {
   "cell_type": "code",
   "execution_count": null,
   "metadata": {},
   "outputs": [
    {
     "name": "stdout",
     "output_type": "stream",
     "text": [
      "[INFO] processing video...\n"
     ]
    }
   ],
   "source": [
    "# initialize the video stream, pointer to output video file, and\n",
    "# frame dimensions\n",
    "from collections import deque\n",
    "print(\"[INFO] processing video...\")\n",
    "path =\"C:/Users/97150/Desktop/Uno_card_color_shape_detection/Card_0.mov\"\n",
    "vs = cv2.VideoCapture(0)\n",
    "# initialize the predictions queue\n",
    "Q = []\n",
    "\n",
    "(W, H) = (None, None)\n",
    "\n",
    "# loop over frames from the video file stream\n",
    "while True:\n",
    "    # read the next frame from the file\n",
    "    (grabbed, frame) = vs.read()\n",
    " \n",
    "    # if the frame was not grabbed, then we have reached the end\n",
    "    # of the stream\n",
    "    if not grabbed:\n",
    "        break\n",
    " \n",
    "    # if the frame dimensions are empty, grab them\n",
    "    if W is None or H is None:\n",
    "        (H, W) = frame.shape[:2]\n",
    "        # clone the output frame, then convert it from BGR to RGB\n",
    "        # ordering and resize the frame to a fixed 224x224\n",
    "        output = frame.copy()\n",
    "        frame = cv2.cvtColor(frame, cv2.COLOR_BGR2RGB)\n",
    "        frame = cv2.resize(frame, (224, 224))\n",
    "        frame = frame.astype(\"float32\")\n",
    "\n",
    "        # make predictions on the frame and then update the predictions\n",
    "        # queue\n",
    "        #preds = model.predict(frame)\n",
    "        preds = model.predict(np.expand_dims(frame, axis=0))\n",
    "        Q.append(preds)\n",
    "        # perform prediction averaging over the current history of\n",
    "        # previous predictions\n",
    "        results = Q\n",
    "        i = np.argmax(results)\n",
    "        label = CLASSES[i]\n",
    "\n",
    "        # draw the activity on the output frame\n",
    "        text = \"detected card: {}\".format(label)\n",
    "        cv2.putText(output, text, (35, 50), cv2.FONT_HERSHEY_SIMPLEX,\n",
    "            1.25, (0, 255, 0), 5)\n",
    "\n",
    "        cv2.imshow(\"Output\", output)\n",
    "        key = cv2.waitKey(1) & 0xFF\n",
    "\n",
    "        # if the `q` key was pressed, break from the loop\n",
    "        if key == ord(\"q\"):\n",
    "            break\n",
    "\n",
    "# release the file pointers\n",
    "print(\"[INFO] cleaning up...\")\n",
    "vs.release()\n"
   ]
  },
  {
   "cell_type": "code",
   "execution_count": null,
   "metadata": {},
   "outputs": [],
   "source": [
    "#using iphone camera as webcam using Iriun webcam"
   ]
  }
 ],
 "metadata": {
  "kernelspec": {
   "display_name": "Python 3",
   "language": "python",
   "name": "python3"
  },
  "language_info": {
   "codemirror_mode": {
    "name": "ipython",
    "version": 3
   },
   "file_extension": ".py",
   "mimetype": "text/x-python",
   "name": "python",
   "nbconvert_exporter": "python",
   "pygments_lexer": "ipython3",
   "version": "3.8.5"
  }
 },
 "nbformat": 4,
 "nbformat_minor": 4
}
