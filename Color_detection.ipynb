{
 "cells": [
  {
   "cell_type": "code",
   "execution_count": 2,
   "metadata": {},
   "outputs": [],
   "source": [
    "#!pip install -r https://raw.githubusercontent.com/ultralytics/yolov5/master/requirements.txt"
   ]
  },
  {
   "cell_type": "code",
   "execution_count": 21,
   "metadata": {},
   "outputs": [],
   "source": [
    "#!pip install torch\n",
    "#!pip install webcolors"
   ]
  },
  {
   "cell_type": "code",
   "execution_count": 1,
   "metadata": {},
   "outputs": [
    {
     "name": "stderr",
     "output_type": "stream",
     "text": [
      "Cloning into 'vision'...\n"
     ]
    }
   ],
   "source": [
    "#!git clone https://github.com/pytorch/vision.git"
   ]
  },
  {
   "cell_type": "code",
   "execution_count": 5,
   "metadata": {},
   "outputs": [],
   "source": [
    "#!pip install torchvision"
   ]
  },
  {
   "cell_type": "code",
   "execution_count": 1,
   "metadata": {},
   "outputs": [
    {
     "name": "stderr",
     "output_type": "stream",
     "text": [
      "Downloading: \"https://github.com/ultralytics/yolov5/zipball/master\" to C:\\Users\\97150/.cache\\torch\\hub\\master.zip\n",
      "YOLOv5  2023-4-27 Python-3.8.5 torch-2.0.0+cpu CPU\n",
      "\n",
      "Fusing layers... \n"
     ]
    },
    {
     "name": "stdout",
     "output_type": "stream",
     "text": [
      "\u001b[31m\u001b[1mrequirements:\u001b[0m C:\\Users\\97150\\.cache\\torch\\hub\\requirements.txt not found, check failed.\n"
     ]
    },
    {
     "name": "stderr",
     "output_type": "stream",
     "text": [
      "Model summary: 157 layers, 7012822 parameters, 0 gradients\n",
      "Adding AutoShape... \n"
     ]
    }
   ],
   "source": [
    "import torch\n",
    "import cv2\n",
    "import csv\n",
    "import webcolors\n",
    "from matplotlib import pyplot as plt\n",
    "from IPython.display import Image\n",
    "import numpy as np\n",
    "import pandas as pd\n",
    "from sklearn.cluster import KMeans\n",
    "from pathlib import Path\n",
    "\n",
    "cardmodel = torch.hub.load('ultralytics/yolov5','custom',path ='C:/Users/97150/Desktop/Uno_card_color_shape_detection/Card_detection/yolov5/runs/train/exp/weights/best.pt',force_reload=True)\n",
    "cardmodel.conf=0.50"
   ]
  },
  {
   "cell_type": "code",
   "execution_count": 2,
   "metadata": {},
   "outputs": [
    {
     "name": "stderr",
     "output_type": "stream",
     "text": [
      "image 1/1: 1920x1080 1 card\n",
      "Speed: 6.0ms pre-process, 352.2ms inference, 2.0ms NMS per image at shape (1, 3, 640, 384)\n"
     ]
    },
    {
     "data": {
      "text/plain": [
       "True"
      ]
     },
     "execution_count": 2,
     "metadata": {},
     "output_type": "execute_result"
    }
   ],
   "source": [
    "torch.hub._validate_not_a_forked_repo=lambda a,b,c: True\n",
    "imgpath='C:/Users/97150/Desktop/Uno_card_color_shape_detection/Card_detection/b.jpg'\n",
    "img = cv2.imread(imgpath)\n",
    "img1=img.copy()\n",
    "results = cardmodel(img)\n",
    "results.print()\n",
    "\n",
    "fulllist=(results.pandas().xyxy[0])\n",
    "#print('The number of people detected is :',sum(fulllist['name']=='person'))\n",
    "\n",
    "cards=[]\n",
    "bb_xy=results.xyxy[0].cpu().detach().numpy()\n",
    "bb1_xy=bb_xy[bb_xy[:,-1]==0]\n",
    "bb1_xy=bb1_xy.astype('int')\n",
    "bb_x1y1=bb1_xy[:,0:2]\n",
    "bb_x2y2=bb1_xy[:,2:4]\n",
    "\n",
    "bb=results.xywh[0].cpu().detach().numpy()\n",
    "bb1=bb[bb[:,-1]==0]\n",
    "bb1=bb1.astype('int')\n",
    "bb_wh=bb1[:,2:4]\n",
    "th=int(0.01*img.shape[0]*img.shape[1])\n",
    "cropped_img = img[bb_x1y1[0,1]:bb_x1y1[0,1]+bb_wh[0,1],bb_x1y1[0,0]:bb_x1y1[0,0]+bb_wh[0,0]]\n",
    "cv2.imwrite('p.png',cropped_img)"
   ]
  },
  {
   "cell_type": "code",
   "execution_count": 3,
   "metadata": {},
   "outputs": [],
   "source": [
    "def get_colour_name(requested_colour):\n",
    "    try:\n",
    "        closest_name = actual_name = webcolors.rgb_to_name(requested_colour)\n",
    "    except ValueError:\n",
    "        closest_name = closest_colour(requested_colour)\n",
    "        actual_name = None\n",
    "    return closest_name\n",
    "def closest_colour(requested_colour):\n",
    "    min_colours = {}\n",
    "    for key, name in webcolors.CSS3_HEX_TO_NAMES.items():\n",
    "        r_c, g_c, b_c = webcolors.hex_to_rgb(key)\n",
    "        rd = (r_c - requested_colour[0]) ** 2\n",
    "        gd = (g_c - requested_colour[1]) ** 2\n",
    "        bd = (b_c - requested_colour[2]) ** 2\n",
    "        min_colours[(rd + gd + bd)] = name\n",
    "    return min_colours[min(min_colours.keys())]\n",
    "\n",
    "def centroid_histogram(clt):\n",
    "    # grab the number of different clusters and create a histogram\n",
    "    # based on the number of pixels assigned to each cluster\n",
    "    numLabels = np.arange(0, len(np.unique(clt.labels_)) + 1)\n",
    "    (hist, _) = np.histogram(clt.labels_, bins = numLabels)\n",
    "\n",
    "    # normalize the histogram, such that it sums to one\n",
    "    hist = hist.astype(\"float\")\n",
    "    hist /= hist.sum()\n",
    "\n",
    "    # return the histogram\n",
    "    return hist\n",
    "\n",
    "def plot_colors(hist, centroids):\n",
    "    # initialize the bar chart representing the relative frequency\n",
    "    # of each of the colors\n",
    "    bar = np.zeros((50, 300, 3), dtype = \"uint8\")\n",
    "    startX = 0\n",
    "\n",
    "    # loop over the percentage of each cluster and the color of\n",
    "    # each cluster\n",
    "    for (percent, color) in zip(hist, centroids):\n",
    "        # plot the relative percentage of each cluster\n",
    "        endX = startX + (percent * 300)\n",
    "        cv2.rectangle(bar, (int(startX), 0), (int(endX), 50),\n",
    "            color.astype(\"uint8\").tolist(), -1)\n",
    "        startX = endX\n",
    "    \n",
    "    # return the bar chart\n",
    "    return bar"
   ]
  },
  {
   "cell_type": "code",
   "execution_count": 8,
   "metadata": {},
   "outputs": [
    {
     "name": "stdout",
     "output_type": "stream",
     "text": [
      "cornflowerblue\n",
      "[[[116 161 220]]]\n"
     ]
    },
    {
     "data": {
      "image/png": "[encoded data removed]",
      "text/plain": [
       "<Figure size 432x288 with 1 Axes>"
      ]
     },
     "metadata": {
      "needs_background": "light"
     },
     "output_type": "display_data"
    },
    {
     "name": "stdout",
     "output_type": "stream",
     "text": [
      "Using median values\n",
      "[[[116 158 222]]]\n",
      "cornflowerblue\n"
     ]
    },
    {
     "data": {
      "image/png": "[encoded data removed]",
      "text/plain": [
       "<Figure size 432x288 with 1 Axes>"
      ]
     },
     "metadata": {
      "needs_background": "light"
     },
     "output_type": "display_data"
    },
    {
     "data": {
      "image/png": "[encoded data removed]",
      "text/plain": [
       "<Figure size 432x288 with 1 Axes>"
      ]
     },
     "metadata": {
      "needs_background": "light"
     },
     "output_type": "display_data"
    },
    {
     "data": {
      "image/png": "[encoded data removed]",
      "text/plain": [
       "<Figure size 432x288 with 1 Axes>"
      ]
     },
     "metadata": {
      "needs_background": "light"
     },
     "output_type": "display_data"
    }
   ],
   "source": [
    "%matplotlib inline\n",
    "col_res=pd.DataFrame()\n",
    "res11=[]\n",
    "v1=cv2.imread('p.png')\n",
    "image = cv2.cvtColor(v1, cv2.COLOR_BGR2HSV)\n",
    "\n",
    "## reshape the image to be a list of pixels\n",
    "image = image.reshape((image.shape[0] * image.shape[1], 3))\n",
    "# cluster the pixel intensities\n",
    "clt = KMeans(n_clusters = 3)\n",
    "clt.fit(image)\n",
    "\n",
    "big_clust=pd.DataFrame(clt.labels_).value_counts().index[1][0]\n",
    "cent=clt.cluster_centers_[big_clust,:].astype(int)\n",
    "\n",
    "col=np.array([[cent]]).astype('uint8')\n",
    "col1=cv2.cvtColor(col,cv2.COLOR_HSV2RGB)\n",
    "\n",
    "print(get_colour_name(col1[0][0]))\n",
    "print(col1)\n",
    "bar = np.zeros((50, 50, 3), dtype = \"uint8\")\n",
    "#cc=cv2.rectangle(bar,(0,0),(50,50),cent.astype(\"uint8\").tolist(), -1)\n",
    "cc=cv2.rectangle(bar,(0,0),(50,50),col1[0][0].tolist(), -1)\n",
    "\n",
    "plt.imshow(cc)\n",
    "plt.show()\n",
    "\n",
    "# print(get_colour_name(cent))\n",
    "# print(cent)\n",
    "print('Using median values')\n",
    "data=pd.DataFrame(image)\n",
    "data['label']=clt.labels_\n",
    "rgb_median=np.array(data[data['label']==big_clust].median()[:3])\n",
    "col_med=np.array([[rgb_median]]).astype('uint8')\n",
    "col_med=cv2.cvtColor(col_med,cv2.COLOR_HSV2RGB)\n",
    "print(col_med)\n",
    "print(get_colour_name(col_med[0][0]))\n",
    "\n",
    "bar = np.zeros((200, 200, 3), dtype = \"uint8\")\n",
    "#cc=cv2.rectangle(bar,(0,0),(50,50),cent.astype(\"uint8\").tolist(), -1)\n",
    "ccc=cv2.rectangle(bar,(0,0),(200,200),col_med[0][0].tolist(), -1)\n",
    "\n",
    "plt.imshow(ccc)\n",
    "plt.show()\n",
    "\n",
    "\n",
    "cen=cv2.cvtColor(np.array([clt.cluster_centers_]).astype('uint8'),cv2.COLOR_HSV2RGB)\n",
    "hist = centroid_histogram(clt)\n",
    "#hist=np.sort(hist)[::-1]\n",
    "bar1 = plot_colors(hist, cen[0])\n",
    "\n",
    "\n",
    "plt.imshow(cv2.cvtColor(v1, cv2.COLOR_BGR2RGB))\n",
    "plt.show()\n",
    "\n",
    "plt.imshow(bar1)\n",
    "plt.show()\n",
    "\n",
    "\n",
    "\n"
   ]
  },
  {
   "cell_type": "code",
   "execution_count": null,
   "metadata": {},
   "outputs": [],
   "source": []
  }
 ],
 "metadata": {
  "kernelspec": {
   "display_name": "Python 3",
   "language": "python",
   "name": "python3"
  },
  "language_info": {
   "codemirror_mode": {
    "name": "ipython",
    "version": 3
   },
   "file_extension": ".py",
   "mimetype": "text/x-python",
   "name": "python",
   "nbconvert_exporter": "python",
   "pygments_lexer": "ipython3",
   "version": "3.8.5"
  }
 },
 "nbformat": 4,
 "nbformat_minor": 4
}
